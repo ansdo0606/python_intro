{
 "cells": [
  {
   "cell_type": "code",
   "execution_count": 2,
   "id": "1f53776c",
   "metadata": {},
   "outputs": [],
   "source": [
    "# 리스트 : 순서가 있는 데이터들의 묶음\n",
    "\n",
    "list = [10,20,30,40]"
   ]
  },
  {
   "cell_type": "code",
   "execution_count": 3,
   "id": "a53b9c1f",
   "metadata": {},
   "outputs": [
    {
     "data": {
      "text/plain": [
       "[10, 20, 30, 40]"
      ]
     },
     "execution_count": 3,
     "metadata": {},
     "output_type": "execute_result"
    }
   ],
   "source": [
    "list"
   ]
  },
  {
   "cell_type": "code",
   "execution_count": 5,
   "id": "931ca029",
   "metadata": {},
   "outputs": [
    {
     "name": "stdout",
     "output_type": "stream",
     "text": [
      "[10, 20, 30, 40] <class 'type'>\n"
     ]
    }
   ],
   "source": [
    "print(list,type)"
   ]
  },
  {
   "cell_type": "code",
   "execution_count": 7,
   "id": "ab14c01b",
   "metadata": {},
   "outputs": [
    {
     "name": "stdout",
     "output_type": "stream",
     "text": [
      "list 요소의 개수 :  4\n"
     ]
    }
   ],
   "source": [
    "# len() : 리스트의 사이즈 => 요소들의 개수 반환하는 함수\n",
    "\n",
    "print('list 요소의 개수 : ',len(list))"
   ]
  },
  {
   "cell_type": "code",
   "execution_count": 10,
   "id": "5ca322d6",
   "metadata": {},
   "outputs": [
    {
     "name": "stdout",
     "output_type": "stream",
     "text": [
      "10\n",
      "20\n",
      "30\n",
      "40\n"
     ]
    }
   ],
   "source": [
    "# 요소 값에 접근(참조) : index값을 이용\n",
    "\n",
    "print(list[0])\n",
    "print(list[1])\n",
    "print(list[2])\n",
    "print(list[3])\n",
    "#print(list[4])"
   ]
  },
  {
   "cell_type": "code",
   "execution_count": 11,
   "id": "56ccfca2",
   "metadata": {},
   "outputs": [
    {
     "data": {
      "text/plain": [
       "[20, 30]"
      ]
     },
     "execution_count": 11,
     "metadata": {},
     "output_type": "execute_result"
    }
   ],
   "source": [
    "# 슬라이싱\n",
    "# 변수명[시작 인덱스값:종료하고자하는 인덱스값]\n",
    "#list[1:3] =>[1],[2] => 20,30\n",
    "\n",
    "list[1:3]"
   ]
  },
  {
   "cell_type": "code",
   "execution_count": 12,
   "id": "4f826311",
   "metadata": {},
   "outputs": [
    {
     "data": {
      "text/plain": [
       "[10, 20, 30, 40]"
      ]
     },
     "execution_count": 12,
     "metadata": {},
     "output_type": "execute_result"
    }
   ],
   "source": [
    "list[0:4] #0,1,2,3"
   ]
  },
  {
   "cell_type": "code",
   "execution_count": 13,
   "id": "e27e24b8",
   "metadata": {},
   "outputs": [
    {
     "data": {
      "text/plain": [
       "[10, 20, 30, 40]"
      ]
     },
     "execution_count": 13,
     "metadata": {},
     "output_type": "execute_result"
    }
   ],
   "source": [
    "list[:4]"
   ]
  },
  {
   "cell_type": "code",
   "execution_count": 14,
   "id": "0cffa45f",
   "metadata": {},
   "outputs": [
    {
     "data": {
      "text/plain": [
       "[10, 20, 30, 40]"
      ]
     },
     "execution_count": 14,
     "metadata": {},
     "output_type": "execute_result"
    }
   ],
   "source": [
    "list[0:]"
   ]
  },
  {
   "cell_type": "code",
   "execution_count": 17,
   "id": "8cac2cfd",
   "metadata": {},
   "outputs": [
    {
     "data": {
      "text/plain": [
       "[20, 30, 40]"
      ]
     },
     "execution_count": 17,
     "metadata": {},
     "output_type": "execute_result"
    }
   ],
   "source": [
    "list[-3:]"
   ]
  },
  {
   "cell_type": "code",
   "execution_count": 18,
   "id": "e2f80d6c",
   "metadata": {},
   "outputs": [
    {
     "data": {
      "text/plain": [
       "[10, 30]"
      ]
     },
     "execution_count": 18,
     "metadata": {},
     "output_type": "execute_result"
    }
   ],
   "source": [
    "#  변수명[시작:마지막: 증가값]\n",
    "\n",
    "list[0:4:2]"
   ]
  },
  {
   "cell_type": "code",
   "execution_count": 19,
   "id": "c9add176",
   "metadata": {},
   "outputs": [
    {
     "data": {
      "text/plain": [
       "[10, 30]"
      ]
     },
     "execution_count": 19,
     "metadata": {},
     "output_type": "execute_result"
    }
   ],
   "source": [
    "list[::2]"
   ]
  },
  {
   "cell_type": "code",
   "execution_count": 20,
   "id": "d5580e97",
   "metadata": {},
   "outputs": [
    {
     "data": {
      "text/plain": [
       "[40, 30, 20, 10]"
      ]
     },
     "execution_count": 20,
     "metadata": {},
     "output_type": "execute_result"
    }
   ],
   "source": [
    "list[::-1]"
   ]
  },
  {
   "cell_type": "code",
   "execution_count": 21,
   "id": "53574bca",
   "metadata": {},
   "outputs": [
    {
     "data": {
      "text/plain": [
       "[10, 20, 30, 40, 50, 60, 70, 80]"
      ]
     },
     "execution_count": 21,
     "metadata": {},
     "output_type": "execute_result"
    }
   ],
   "source": [
    "# 리스트의 덧셈\n",
    "list_a = [10,20,30,40]\n",
    "list_b = [50,60,70,80]\n",
    "\n",
    "#리스트의 덧셈\n",
    "list_total = list_a + list_b\n",
    "list_total"
   ]
  },
  {
   "cell_type": "code",
   "execution_count": 22,
   "id": "5d719ca4",
   "metadata": {},
   "outputs": [
    {
     "data": {
      "text/plain": [
       "[10, 20, 30, 40, 10, 20, 30, 40, 10, 20, 30, 40]"
      ]
     },
     "execution_count": 22,
     "metadata": {},
     "output_type": "execute_result"
    }
   ],
   "source": [
    "#리스트의 곱셈\n",
    "list_result = list_a * 3\n",
    "list_result"
   ]
  },
  {
   "cell_type": "code",
   "execution_count": 24,
   "id": "305856a1",
   "metadata": {},
   "outputs": [
    {
     "name": "stdout",
     "output_type": "stream",
     "text": [
      "False\n",
      "True\n"
     ]
    }
   ],
   "source": [
    "# in 연산자 => 리스트에 특정 요소가 포함되어 있는지 여부를 확인 => True, False\n",
    "\n",
    "print(130 in list_a)\n",
    "print(50 in list_b)"
   ]
  },
  {
   "cell_type": "code",
   "execution_count": 25,
   "id": "7cfc6a00",
   "metadata": {},
   "outputs": [
    {
     "data": {
      "text/plain": [
       "[10, 20, 30, 40]"
      ]
     },
     "execution_count": 25,
     "metadata": {},
     "output_type": "execute_result"
    }
   ],
   "source": [
    "# list에서 제공하는 조작 함수\n",
    "\n",
    "list_numbers = [10,20,30,40]\n",
    "list_numbers"
   ]
  },
  {
   "cell_type": "code",
   "execution_count": 26,
   "id": "4b040516",
   "metadata": {},
   "outputs": [
    {
     "data": {
      "text/plain": [
       "[10, 20, 30, 40, 100]"
      ]
     },
     "execution_count": 26,
     "metadata": {},
     "output_type": "execute_result"
    }
   ],
   "source": [
    "list_numbers.append(100) #  요소들의 마지막에 데이터 요소 추가\n",
    "list_numbers"
   ]
  },
  {
   "cell_type": "code",
   "execution_count": 27,
   "id": "807c870c",
   "metadata": {},
   "outputs": [
    {
     "data": {
      "text/plain": [
       "100"
      ]
     },
     "execution_count": 27,
     "metadata": {},
     "output_type": "execute_result"
    }
   ],
   "source": [
    "list_numbers.pop()"
   ]
  },
  {
   "cell_type": "code",
   "execution_count": 28,
   "id": "48d657fc",
   "metadata": {},
   "outputs": [
    {
     "data": {
      "text/plain": [
       "[10, 20, 30, 40]"
      ]
     },
     "execution_count": 28,
     "metadata": {},
     "output_type": "execute_result"
    }
   ],
   "source": [
    "list_numbers"
   ]
  },
  {
   "cell_type": "code",
   "execution_count": 29,
   "id": "ef96eeb8",
   "metadata": {},
   "outputs": [
    {
     "data": {
      "text/plain": [
       "[10, 20, 30, 40, 500]"
      ]
     },
     "execution_count": 29,
     "metadata": {},
     "output_type": "execute_result"
    }
   ],
   "source": [
    "list_numbers.append(500)\n",
    "list_numbers"
   ]
  },
  {
   "cell_type": "code",
   "execution_count": 30,
   "id": "4184b2c0",
   "metadata": {},
   "outputs": [
    {
     "data": {
      "text/plain": [
       "[10, 20, 30, 40, 500, 1000, 2000]"
      ]
     },
     "execution_count": 30,
     "metadata": {},
     "output_type": "execute_result"
    }
   ],
   "source": [
    "list_numbers.extend([1000,2000])\n",
    "list_numbers"
   ]
  },
  {
   "cell_type": "code",
   "execution_count": 31,
   "id": "00cd6008",
   "metadata": {},
   "outputs": [
    {
     "data": {
      "text/plain": [
       "[99, 10, 20, 30, 40, 500, 1000, 2000]"
      ]
     },
     "execution_count": 31,
     "metadata": {},
     "output_type": "execute_result"
    }
   ],
   "source": [
    "list_numbers\n",
    "\n",
    "# 0 index에 99 숫자 요소 추가\n",
    "list_numbers.insert(0,99)\n",
    "list_numbers"
   ]
  },
  {
   "cell_type": "code",
   "execution_count": 32,
   "id": "63177f6c",
   "metadata": {},
   "outputs": [
    {
     "data": {
      "text/plain": [
       "[10, 20, 30, 40, 500, 1000, 2000]"
      ]
     },
     "execution_count": 32,
     "metadata": {},
     "output_type": "execute_result"
    }
   ],
   "source": [
    "# 특정 데이터 요소를 삭제\n",
    "\n",
    "list_numbers.remove(99)\n",
    "list_numbers"
   ]
  },
  {
   "cell_type": "code",
   "execution_count": 33,
   "id": "9c9169cf",
   "metadata": {},
   "outputs": [
    {
     "data": {
      "text/plain": [
       "[10, 20, 30, 40, 1000, 2000]"
      ]
     },
     "execution_count": 33,
     "metadata": {},
     "output_type": "execute_result"
    }
   ],
   "source": [
    "# 인덱스 값으로 요소 삭제\n",
    "del list_numbers[4]\n",
    "list_numbers"
   ]
  },
  {
   "cell_type": "code",
   "execution_count": 47,
   "id": "48e20b7d",
   "metadata": {},
   "outputs": [],
   "source": [
    "# 튜플\n",
    "\n",
    "list_score= (100, 90, 60, 80, 70)"
   ]
  },
  {
   "cell_type": "code",
   "execution_count": 48,
   "id": "b6eeee80",
   "metadata": {},
   "outputs": [
    {
     "name": "stdout",
     "output_type": "stream",
     "text": [
      "(100, 90, 60, 80, 70)\n"
     ]
    }
   ],
   "source": [
    "print(list_score)"
   ]
  },
  {
   "cell_type": "code",
   "execution_count": 40,
   "id": "5e5cb7ff",
   "metadata": {},
   "outputs": [
    {
     "data": {
      "text/plain": [
       "(100, 90, 40, 80, 70)"
      ]
     },
     "execution_count": 40,
     "metadata": {},
     "output_type": "execute_result"
    }
   ],
   "source": [
    "list_score_a = 100, 90, 40, 80, 70\n",
    "list_score_a"
   ]
  },
  {
   "cell_type": "code",
   "execution_count": 41,
   "id": "ab30c42e",
   "metadata": {},
   "outputs": [
    {
     "data": {
      "text/plain": [
       "tuple"
      ]
     },
     "execution_count": 41,
     "metadata": {},
     "output_type": "execute_result"
    }
   ],
   "source": [
    "type(list_score_a)"
   ]
  },
  {
   "cell_type": "code",
   "execution_count": 42,
   "id": "b7332513",
   "metadata": {},
   "outputs": [],
   "source": [
    "del list_score_a"
   ]
  },
  {
   "cell_type": "code",
   "execution_count": 43,
   "id": "3d0f49ba",
   "metadata": {},
   "outputs": [
    {
     "ename": "NameError",
     "evalue": "name 'list_score_a' is not defined",
     "output_type": "error",
     "traceback": [
      "\u001b[1;31m---------------------------------------------------------------------------\u001b[0m",
      "\u001b[1;31mNameError\u001b[0m                                 Traceback (most recent call last)",
      "Cell \u001b[1;32mIn[43], line 1\u001b[0m\n\u001b[1;32m----> 1\u001b[0m list_score_a\n",
      "\u001b[1;31mNameError\u001b[0m: name 'list_score_a' is not defined"
     ]
    }
   ],
   "source": [
    "list_score_a"
   ]
  },
  {
   "cell_type": "code",
   "execution_count": 45,
   "id": "d7d440e4",
   "metadata": {},
   "outputs": [],
   "source": [
    "# 집합 set : 저장 순서는 없다! 동일한 데이터는 저장하지 않는다!\n",
    "# 집합의 연산 : 합집합, 교집합, 차집합\n",
    "\n",
    "set_x = {10, 30, 50}\n",
    "set_y = {30, 20, 50, 40}"
   ]
  },
  {
   "cell_type": "code",
   "execution_count": 46,
   "id": "625fd63d",
   "metadata": {},
   "outputs": [
    {
     "name": "stdout",
     "output_type": "stream",
     "text": [
      "{50, 20, 40, 10, 30}\n"
     ]
    }
   ],
   "source": [
    "# 합집합\n",
    "print(set_x|set_y)"
   ]
  },
  {
   "cell_type": "code",
   "execution_count": 49,
   "id": "450a8f23",
   "metadata": {},
   "outputs": [
    {
     "name": "stdout",
     "output_type": "stream",
     "text": [
      "{50, 30}\n"
     ]
    }
   ],
   "source": [
    "# 교집합\n",
    "print(set_x&set_y)"
   ]
  },
  {
   "cell_type": "code",
   "execution_count": 51,
   "id": "fbb24102",
   "metadata": {},
   "outputs": [
    {
     "name": "stdout",
     "output_type": "stream",
     "text": [
      "{40, 20}\n"
     ]
    }
   ],
   "source": [
    "#차집합\n",
    "print(set_y-set_x)"
   ]
  },
  {
   "cell_type": "code",
   "execution_count": 52,
   "id": "ae56fe7c",
   "metadata": {},
   "outputs": [
    {
     "name": "stdout",
     "output_type": "stream",
     "text": [
      "{'name': 'King', 'grade': 1, 'major': 'SW'}\n"
     ]
    }
   ],
   "source": [
    "# dict : 딕셔너리 => 여러개의 데이터를 묶어서 하나의 개녕으로 표현\n",
    "# 학생 : 이름, 학년, 전공\n",
    "\n",
    "student = {'name':'King', 'grade':1,'major':'SW'}\n",
    "print(student)"
   ]
  },
  {
   "cell_type": "code",
   "execution_count": 53,
   "id": "65a7283d",
   "metadata": {},
   "outputs": [
    {
     "name": "stdout",
     "output_type": "stream",
     "text": [
      "King 1 SW\n"
     ]
    }
   ],
   "source": [
    "print(student['name'],student['grade'],student['major'])"
   ]
  },
  {
   "cell_type": "code",
   "execution_count": 54,
   "id": "5e78a00a",
   "metadata": {},
   "outputs": [],
   "source": [
    "student['name']='son'"
   ]
  },
  {
   "cell_type": "code",
   "execution_count": 55,
   "id": "21fdac59",
   "metadata": {},
   "outputs": [
    {
     "data": {
      "text/plain": [
       "{'name': 'son', 'grade': 1, 'major': 'SW'}"
      ]
     },
     "execution_count": 55,
     "metadata": {},
     "output_type": "execute_result"
    }
   ],
   "source": [
    "student"
   ]
  },
  {
   "cell_type": "code",
   "execution_count": 56,
   "id": "0f8f650f",
   "metadata": {},
   "outputs": [
    {
     "data": {
      "text/plain": [
       "{'name': 'son', 'grade': 1, 'major': 'SW', 'age': 20}"
      ]
     },
     "execution_count": 56,
     "metadata": {},
     "output_type": "execute_result"
    }
   ],
   "source": [
    "student['age']= 20\n",
    "student"
   ]
  },
  {
   "cell_type": "code",
   "execution_count": 57,
   "id": "a2655a3a",
   "metadata": {},
   "outputs": [
    {
     "data": {
      "text/plain": [
       "{'name': 'son', 'grade': 1, 'major': 'SW'}"
      ]
     },
     "execution_count": 57,
     "metadata": {},
     "output_type": "execute_result"
    }
   ],
   "source": [
    "del student['age']\n",
    "student"
   ]
  },
  {
   "cell_type": "code",
   "execution_count": 58,
   "id": "aabdc57e",
   "metadata": {},
   "outputs": [
    {
     "data": {
      "text/plain": [
       "'son'"
      ]
     },
     "execution_count": 58,
     "metadata": {},
     "output_type": "execute_result"
    }
   ],
   "source": [
    "# 값 참조하는 함수(메소드) : get(key)\n",
    "student.get('name')"
   ]
  },
  {
   "cell_type": "code",
   "execution_count": 59,
   "id": "37304053",
   "metadata": {},
   "outputs": [
    {
     "data": {
      "text/plain": [
       "dict_keys(['name', 'grade', 'major'])"
      ]
     },
     "execution_count": 59,
     "metadata": {},
     "output_type": "execute_result"
    }
   ],
   "source": [
    "#dict가 가지고 있는 모든 key 반환 함수 : keys()\n",
    "student.keys()"
   ]
  },
  {
   "cell_type": "code",
   "execution_count": 60,
   "id": "f1bce775",
   "metadata": {},
   "outputs": [
    {
     "data": {
      "text/plain": [
       "dict_items([('name', 'son'), ('grade', 1), ('major', 'SW')])"
      ]
     },
     "execution_count": 60,
     "metadata": {},
     "output_type": "execute_result"
    }
   ],
   "source": [
    "#items() : 튜플 형식으로 데이터 반환\n",
    "student.items()"
   ]
  },
  {
   "cell_type": "code",
   "execution_count": 61,
   "id": "0610b00b",
   "metadata": {},
   "outputs": [
    {
     "data": {
      "text/plain": [
       "dict_values(['son', 1, 'SW'])"
      ]
     },
     "execution_count": 61,
     "metadata": {},
     "output_type": "execute_result"
    }
   ],
   "source": [
    "# values() : dict 저장된 데이터들을 리스트 형식으로 반환\n",
    "student.values()"
   ]
  },
  {
   "cell_type": "code",
   "execution_count": 63,
   "id": "e9d21ac8",
   "metadata": {},
   "outputs": [
    {
     "data": {
      "text/plain": [
       "False"
      ]
     },
     "execution_count": 63,
     "metadata": {},
     "output_type": "execute_result"
    }
   ],
   "source": [
    "'age' in student"
   ]
  },
  {
   "cell_type": "code",
   "execution_count": 64,
   "id": "1916f079",
   "metadata": {},
   "outputs": [
    {
     "data": {
      "text/plain": [
       "NoneType"
      ]
     },
     "execution_count": 64,
     "metadata": {},
     "output_type": "execute_result"
    }
   ],
   "source": [
    "# None\n",
    "\n",
    "var_temp = None\n",
    "type(var_temp)"
   ]
  }
 ],
 "metadata": {
  "kernelspec": {
   "display_name": "Python 3 (ipykernel)",
   "language": "python",
   "name": "python3"
  },
  "language_info": {
   "codemirror_mode": {
    "name": "ipython",
    "version": 3
   },
   "file_extension": ".py",
   "mimetype": "text/x-python",
   "name": "python",
   "nbconvert_exporter": "python",
   "pygments_lexer": "ipython3",
   "version": "3.11.4"
  }
 },
 "nbformat": 4,
 "nbformat_minor": 5
}
