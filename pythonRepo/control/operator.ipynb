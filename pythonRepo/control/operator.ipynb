{
 "cells": [
  {
   "cell_type": "markdown",
   "id": "0548ec34",
   "metadata": {},
   "source": [
    "## 연산자"
   ]
  },
  {
   "cell_type": "markdown",
   "id": "042d864b",
   "metadata": {},
   "source": [
    "### 산술연산자"
   ]
  },
  {
   "cell_type": "code",
   "execution_count": 1,
   "id": "4a79d88e",
   "metadata": {},
   "outputs": [],
   "source": [
    "x = 10\n",
    "y = 20\n",
    "z = 3"
   ]
  },
  {
   "cell_type": "code",
   "execution_count": 2,
   "id": "606945fb",
   "metadata": {},
   "outputs": [
    {
     "name": "stdout",
     "output_type": "stream",
     "text": [
      "30\n",
      "-10\n",
      "200\n",
      "2.0\n",
      "3.3333333333333335\n",
      "0\n",
      "2\n",
      "1000\n",
      "3\n"
     ]
    }
   ],
   "source": [
    "print(x+y)\n",
    "print(x-y)\n",
    "print(x*y)\n",
    "print(y/x)\n",
    "print(x/z)\n",
    "print(y%x)\n",
    "print(y%z)\n",
    "print(x**z)\n",
    "print(x//z)"
   ]
  },
  {
   "cell_type": "markdown",
   "id": "40ba72b3",
   "metadata": {},
   "source": [
    "### 관계연산자"
   ]
  },
  {
   "cell_type": "code",
   "execution_count": 6,
   "id": "2dac20c3",
   "metadata": {},
   "outputs": [
    {
     "name": "stdout",
     "output_type": "stream",
     "text": [
      "x =  10 y =  20 z =  3\n"
     ]
    }
   ],
   "source": [
    "print('x = ',x, 'y = ',y, 'z = ',z)"
   ]
  },
  {
   "cell_type": "code",
   "execution_count": 11,
   "id": "cea17e76",
   "metadata": {},
   "outputs": [
    {
     "name": "stdout",
     "output_type": "stream",
     "text": [
      "False\n",
      "True\n",
      "False\n",
      "True\n",
      "False\n",
      "True\n"
     ]
    }
   ],
   "source": [
    "print(x==y)\n",
    "print(x!=y)\n",
    "print(z>y)\n",
    "print(x<y)\n",
    "print(x>=y)\n",
    "print(z<=y)"
   ]
  },
  {
   "cell_type": "markdown",
   "id": "c21e0459",
   "metadata": {},
   "source": [
    "### 논리연산자"
   ]
  },
  {
   "cell_type": "code",
   "execution_count": 12,
   "id": "3cb52304",
   "metadata": {},
   "outputs": [],
   "source": [
    "x = True\n",
    "y = False"
   ]
  },
  {
   "cell_type": "code",
   "execution_count": 13,
   "id": "9762c118",
   "metadata": {},
   "outputs": [
    {
     "name": "stdout",
     "output_type": "stream",
     "text": [
      "x =  True y =  False\n"
     ]
    }
   ],
   "source": [
    "print('x = ',x, 'y = ', y)"
   ]
  },
  {
   "cell_type": "code",
   "execution_count": 16,
   "id": "dba0f898",
   "metadata": {},
   "outputs": [
    {
     "name": "stdout",
     "output_type": "stream",
     "text": [
      "False\n",
      "True\n",
      "False\n",
      "True\n",
      "True\n"
     ]
    }
   ],
   "source": [
    "# and, or,not\n",
    "print(x and y) #True and False => False\n",
    "print(x or y)  #True or False => True\n",
    "print(not x)   #not True => False\n",
    "print(not y)   #not False => True\n",
    "print(not (x and y)) #not (True and False) => not (False) => True"
   ]
  },
  {
   "cell_type": "code",
   "execution_count": null,
   "id": "402918cb",
   "metadata": {},
   "outputs": [],
   "source": []
  },
  {
   "cell_type": "code",
   "execution_count": null,
   "id": "f1b568c5",
   "metadata": {},
   "outputs": [],
   "source": []
  }
 ],
 "metadata": {
  "kernelspec": {
   "display_name": "Python 3 (ipykernel)",
   "language": "python",
   "name": "python3"
  },
  "language_info": {
   "codemirror_mode": {
    "name": "ipython",
    "version": 3
   },
   "file_extension": ".py",
   "mimetype": "text/x-python",
   "name": "python",
   "nbconvert_exporter": "python",
   "pygments_lexer": "ipython3",
   "version": "3.11.4"
  }
 },
 "nbformat": 4,
 "nbformat_minor": 5
}
