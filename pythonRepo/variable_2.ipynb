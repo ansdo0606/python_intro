{
 "cells": [
  {
   "cell_type": "code",
   "execution_count": 5,
   "id": "5c8a7970",
   "metadata": {},
   "outputs": [
    {
     "name": "stdout",
     "output_type": "stream",
     "text": [
      "<class 'bool'>\n",
      "int_var의 자료형 :  <class 'int'>\n",
      "int_var의 자료형 :  <class 'str'>\n",
      "float_var <class 'float'>\n"
     ]
    }
   ],
   "source": [
    "#자료형을 확인하는  type() 함수\n",
    "\n",
    "bool_var1 = True #False\n",
    "print(type(bool_var1))\n",
    "\n",
    "int_var = 100\n",
    "print('int_var의 자료형 : ',type(int_var))\n",
    "\n",
    "int_var = 'STRING'\n",
    "print('int_var의 자료형 : ',type(int_var))\n",
    "\n",
    "float_var = 3.141592\n",
    "print('float_var',type(float_var))"
   ]
  },
  {
   "cell_type": "code",
   "execution_count": 6,
   "id": "1bc36203",
   "metadata": {},
   "outputs": [
    {
     "name": "stdout",
     "output_type": "stream",
     "text": [
      "list_var 타입 :  <class 'list'>\n"
     ]
    }
   ],
   "source": [
    "#리스트 : 순서 => [요소,요소,...]\n",
    "\n",
    "list_var = ['son',20,False,True]\n",
    "print('list_var 타입 : ',type(list_var))"
   ]
  },
  {
   "cell_type": "code",
   "execution_count": 7,
   "id": "b1125695",
   "metadata": {},
   "outputs": [
    {
     "name": "stdout",
     "output_type": "stream",
     "text": [
      "tuple_var의 타입 :  <class 'tuple'>\n"
     ]
    }
   ],
   "source": [
    "# 튜플 : 리스트와 같은 형식의 저장 => (요소,요소,...)\n",
    "\n",
    "tuple_var = ('son',30)\n",
    "print('tuple_var의 타입 : ',type(tuple_var))"
   ]
  },
  {
   "cell_type": "code",
   "execution_count": 8,
   "id": "d6223e8d",
   "metadata": {},
   "outputs": [
    {
     "name": "stdout",
     "output_type": "stream",
     "text": [
      "dict_var의 타입 :  <class 'dict'>\n"
     ]
    }
   ],
   "source": [
    "#dict : 속성이름:속성 값 => {속성이름:속성값, 속성이름:속성값,...}\n",
    "\n",
    "dict_var = {'name':'son','age':20}\n",
    "print('dict_var의 타입 : ',type(dict_var))"
   ]
  },
  {
   "cell_type": "code",
   "execution_count": 9,
   "id": "7b13a4e3",
   "metadata": {},
   "outputs": [
    {
     "name": "stdout",
     "output_type": "stream",
     "text": [
      "set_var의 타입 :  <class 'set'>\n"
     ]
    }
   ],
   "source": [
    "# set : 집합,중복값을 저장하지 않는다!!! =>{요소,요소,요소,...}\n",
    "\n",
    "set_var = {'son',30}\n",
    "print('set_var의 타입 : ',type(set_var))"
   ]
  },
  {
   "cell_type": "code",
   "execution_count": 10,
   "id": "b96ecdc1",
   "metadata": {},
   "outputs": [
    {
     "data": {
      "text/plain": [
       "int"
      ]
     },
     "execution_count": 10,
     "metadata": {},
     "output_type": "execute_result"
    }
   ],
   "source": [
    "# 숫자 타입 정수 : int\n",
    "\n",
    "number = 100\n",
    "type(number)"
   ]
  },
  {
   "cell_type": "code",
   "execution_count": 11,
   "id": "d2b57792",
   "metadata": {},
   "outputs": [
    {
     "data": {
      "text/plain": [
       "float"
      ]
     },
     "execution_count": 11,
     "metadata": {},
     "output_type": "execute_result"
    }
   ],
   "source": [
    "# 숫자 타입 실수 : float\n",
    "\n",
    "number = 3.14\n",
    "type(number)"
   ]
  },
  {
   "cell_type": "code",
   "execution_count": 12,
   "id": "53298680",
   "metadata": {},
   "outputs": [
    {
     "name": "stdout",
     "output_type": "stream",
     "text": [
      "안녕하세요!~\n"
     ]
    },
    {
     "data": {
      "text/plain": [
       "str"
      ]
     },
     "execution_count": 12,
     "metadata": {},
     "output_type": "execute_result"
    }
   ],
   "source": [
    "#  문자열 : 여러 문자들의 집합, 작은 타옴표, 큰 따옴표\n",
    "# 문자열 과 리스트는 비슷한 구조\n",
    "\n",
    "str_hello = '안녕하세요!~'\n",
    "print(str_hello)\n",
    "type(str_hello)"
   ]
  },
  {
   "cell_type": "code",
   "execution_count": 13,
   "id": "00a3e3f6",
   "metadata": {},
   "outputs": [
    {
     "data": {
      "text/plain": [
       "'안녕하세요\\n반갑습니다.\\n저는 손흥민 입니다.\\n다음에 다시 만나요!!!\\n'"
      ]
     },
     "execution_count": 13,
     "metadata": {},
     "output_type": "execute_result"
    }
   ],
   "source": [
    "str_c = '''안녕하세요\n",
    "반갑습니다.\n",
    "저는 손흥민 입니다.\n",
    "다음에 다시 만나요!!!\n",
    "'''\n",
    "str_c"
   ]
  },
  {
   "cell_type": "code",
   "execution_count": 14,
   "id": "df817cf6",
   "metadata": {},
   "outputs": [
    {
     "name": "stdout",
     "output_type": "stream",
     "text": [
      "안녕하세요\n",
      "반갑습니다.\n",
      "저는 손흥민 입니다.\n",
      "다음에 다시 만나요!!!\n",
      "\n"
     ]
    }
   ],
   "source": [
    "print(str_c)"
   ]
  },
  {
   "cell_type": "code",
   "execution_count": 15,
   "id": "96657f31",
   "metadata": {},
   "outputs": [
    {
     "name": "stdout",
     "output_type": "stream",
     "text": [
      "hello!!!\n"
     ]
    }
   ],
   "source": [
    "# 문자열의 덧셈 => 문자열 + 문자열 =>  \"hello\" + \"!!!\" =>\"heloo!!!\"\n",
    "\n",
    "str_plus = 'hello'+\"!!!\"\n",
    "print(str_plus)"
   ]
  },
  {
   "cell_type": "code",
   "execution_count": 16,
   "id": "858c1558",
   "metadata": {},
   "outputs": [
    {
     "name": "stdout",
     "output_type": "stream",
     "text": [
      "hello!hello!hello!\n"
     ]
    }
   ],
   "source": [
    "# 문자열의 곱셉 : str * 숫자\n",
    "\n",
    "str_mul = 'hello!' * 3\n",
    "print(str_mul)"
   ]
  },
  {
   "cell_type": "code",
   "execution_count": 17,
   "id": "b58775f7",
   "metadata": {},
   "outputs": [
    {
     "name": "stdout",
     "output_type": "stream",
     "text": [
      "True\n"
     ]
    }
   ],
   "source": [
    "# 논리형 타입 : Boolean 타입 => True,False\n",
    "\n",
    "check = True\n",
    "print(check)"
   ]
  },
  {
   "cell_type": "code",
   "execution_count": 19,
   "id": "fe29eccc",
   "metadata": {},
   "outputs": [
    {
     "name": "stdout",
     "output_type": "stream",
     "text": [
      "False\n"
     ]
    }
   ],
   "source": [
    "# 비교 연산의 결과는 Boolean 타입의 값을 가진다!!!\n",
    "\n",
    "result_1 = 10 > 10 #True\n",
    "print(result_1)"
   ]
  },
  {
   "cell_type": "code",
   "execution_count": 20,
   "id": "80a9cd8b",
   "metadata": {},
   "outputs": [
    {
     "name": "stdout",
     "output_type": "stream",
     "text": [
      "<class 'str'> <class 'int'>\n"
     ]
    }
   ],
   "source": [
    "# 형변환 함수 : 자료형 변경해주는 함수\n",
    "# 문자열 -> 숫자, 정수 또는 문자열 => 실수, 숫자 또는 논리값 => 문자열\n",
    "# int(), flaot(), str()\n",
    "\n",
    "# str => int\n",
    "str_to_num1 = int('100')\n",
    "print(type('100'),type(str_to_num1))"
   ]
  },
  {
   "cell_type": "code",
   "execution_count": 21,
   "id": "b8eefd29",
   "metadata": {},
   "outputs": [
    {
     "name": "stdout",
     "output_type": "stream",
     "text": [
      "<class 'str'> <class 'float'>\n"
     ]
    }
   ],
   "source": [
    "# str=>float\n",
    "str_to_num2 = float('100')\n",
    "print(type('100'),type(str_to_num2))"
   ]
  },
  {
   "cell_type": "code",
   "execution_count": 22,
   "id": "9b5f26e7",
   "metadata": {},
   "outputs": [
    {
     "name": "stdout",
     "output_type": "stream",
     "text": [
      "<class 'int'> <class 'str'>\n"
     ]
    }
   ],
   "source": [
    "# int => str\n",
    "int_to_str = str(100)\n",
    "print(type(100),type(int_to_str))"
   ]
  },
  {
   "cell_type": "code",
   "execution_count": null,
   "id": "7b497695",
   "metadata": {},
   "outputs": [],
   "source": []
  },
  {
   "cell_type": "code",
   "execution_count": null,
   "id": "ca3dc4e4",
   "metadata": {},
   "outputs": [],
   "source": []
  },
  {
   "cell_type": "code",
   "execution_count": null,
   "id": "854de92e",
   "metadata": {},
   "outputs": [],
   "source": []
  }
 ],
 "metadata": {
  "kernelspec": {
   "display_name": "Python 3 (ipykernel)",
   "language": "python",
   "name": "python3"
  },
  "language_info": {
   "codemirror_mode": {
    "name": "ipython",
    "version": 3
   },
   "file_extension": ".py",
   "mimetype": "text/x-python",
   "name": "python",
   "nbconvert_exporter": "python",
   "pygments_lexer": "ipython3",
   "version": "3.11.4"
  }
 },
 "nbformat": 4,
 "nbformat_minor": 5
}
